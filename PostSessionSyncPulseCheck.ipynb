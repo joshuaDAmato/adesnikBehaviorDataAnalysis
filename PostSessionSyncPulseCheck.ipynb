{
 "cells": [
  {
   "cell_type": "code",
   "execution_count": 66,
   "metadata": {},
   "outputs": [],
   "source": [
    "# -*- coding:utf-8 -*-\n",
    "# @Author: Niccolò Bonacchi\n",
    "# @Date: Thursday, February 21st 2019, 7:13:37 pm\n",
    "# @Last Modified by: Niccolò Bonacchi\n",
    "# @Last Modified time: 21-02-2019 07:35:12.1212\n",
    "\n",
    "from pathlib import Path\n",
    "import ibllib.io.raw_data_loaders as raw\n",
    "import matplotlib.pyplot as plt\n",
    "import numpy as np\n",
    "import sys\n",
    "\n",
    "\n",
    "def get_port_events(events: dict, name: str = '') -> list:\n",
    "    out: list = []\n",
    "    for k in events:\n",
    "        if name in k:\n",
    "            out.extend(events[k])\n",
    "    out = sorted(out)\n",
    "\n",
    "    return out\n",
    "session_path = r'C:\\iblrig_data\\Subjects\\_iblrig_test_mouse\\2022-09-08\\001//'\n",
    "\n",
    "#local test mouse path: r'C:\\iblrig_data\\Subjects\\_iblrig_test_mouse\\2022-09-31\\004//'\n",
    "#synapse path: r'Z:\\moraogando\\IBLdata\\Box1_basement\\MBOT42_1840\\2022-08-23\\002//'\n",
    "#local path:  r'C:\\iblrig_data\\Subjects\\MBOT42_1840\\2022-08-19\\005//'\n"
   ]
  },
  {
   "cell_type": "code",
   "execution_count": 67,
   "metadata": {
    "scrolled": false
   },
   "outputs": [
    {
     "name": "stdout",
     "output_type": "stream",
     "text": [
      "Found 5 trials with bad sync data for Box 1\n"
     ]
    },
    {
     "data": {
      "image/png": "[encoded data removed]",
      "text/plain": [
       "<Figure size 432x288 with 1 Axes>"
      ]
     },
     "metadata": {
      "needs_background": "light"
     },
     "output_type": "display_data"
    }
   ],
   "source": [
    "\n",
    "session_data_file = Path(session_path)\n",
    "if not session_data_file.exists():\n",
    "    raise (FileNotFoundError)\n",
    "data = raw.load_data(session_data_file)\n",
    "unsynced_trial_count = 0\n",
    "frame2ttl = []\n",
    "sound = []\n",
    "camera = []\n",
    "trial_end = []\n",
    "for trial_data in data:\n",
    "    tevents = trial_data['behavior_data']['Events timestamps']\n",
    "    ev_bnc1 = get_port_events(tevents, name='BNC1')\n",
    "    ev_bnc2 = get_port_events(tevents, name='BNC2')\n",
    "    ev_port1 = get_port_events(tevents, name='Port1')\n",
    "    if not ev_bnc1 or not ev_bnc2 or not ev_port1:\n",
    "        unsynced_trial_count += 1\n",
    "    frame2ttl.extend(ev_bnc1)\n",
    "    sound.extend(ev_bnc2)\n",
    "    camera.extend(ev_port1)\n",
    "    trial_end.append(trial_data['behavior_data']['Trial end timestamp'])\n",
    "print(f'Found {unsynced_trial_count} trials with bad sync data for Box 1')\n",
    "\n",
    "f = plt.figure()  #figsize=(19.2, 10.8), dpi=100)\n",
    "ax = plt.subplot2grid((1, 1), (0, 0), rowspan=1, colspan=1)\n",
    "\n",
    "ax.plot(camera, np.ones(len(camera)) * 1, '|')\n",
    "ax.plot(sound, np.ones(len(sound)) * 2, '|')\n",
    "ax.plot(frame2ttl, np.ones(len(frame2ttl)) * 3, '|')\n",
    "[ax.axvline(t, alpha=0.5) for t in trial_end]\n",
    "ax.set_ylim([0, 4])\n",
    "ax.set_yticks(range(4))\n",
    "ax.set_yticklabels(['', 'camera', 'sound', 'frame2ttl'])\n",
    "plt.show()"
   ]
  },
  {
   "cell_type": "code",
   "execution_count": 63,
   "metadata": {},
   "outputs": [
    {
     "data": {
      "text/plain": [
       "[3383.292699,\n",
       " 3383.2927990000003,\n",
       " 3383.7927990000003,\n",
       " 3383.892799,\n",
       " 3384.892799,\n",
       " 3384.922599,\n",
       " 3385.1036990000002,\n",
       " 3390.1036990000002,\n",
       " 3390.203699,\n",
       " 3390.703699]"
      ]
     },
     "execution_count": 63,
     "metadata": {},
     "output_type": "execute_result"
    }
   ],
   "source": [
    "trial_data['behavior_data']['Events timestamps']['Tup']"
   ]
  },
  {
   "cell_type": "code",
   "execution_count": null,
   "metadata": {},
   "outputs": [],
   "source": []
  },
  {
   "cell_type": "code",
   "execution_count": null,
   "metadata": {},
   "outputs": [],
   "source": []
  }
 ],
 "metadata": {
  "kernelspec": {
   "display_name": "Python 3 (ipykernel)",
   "language": "python",
   "name": "python3"
  },
  "language_info": {
   "codemirror_mode": {
    "name": "ipython",
    "version": 3
   },
   "file_extension": ".py",
   "mimetype": "text/x-python",
   "name": "python",
   "nbconvert_exporter": "python",
   "pygments_lexer": "ipython3",
   "version": "3.8.13"
  }
 },
 "nbformat": 4,
 "nbformat_minor": 4
}
