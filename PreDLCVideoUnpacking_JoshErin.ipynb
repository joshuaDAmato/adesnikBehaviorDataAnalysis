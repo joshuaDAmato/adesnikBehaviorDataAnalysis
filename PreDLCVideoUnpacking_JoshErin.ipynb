{
 "cells": [
  {
   "cell_type": "markdown",
   "id": "145a993b",
   "metadata": {},
   "source": [
    "# Import stuff"
   ]
  },
  {
   "cell_type": "code",
   "execution_count": 10,
   "id": "076ca856",
   "metadata": {},
   "outputs": [],
   "source": [
    "#!/usr/bin/env python\n",
    "# -*- coding:utf-8 -*-\n",
    "# @Author: Josh and Erin\n",
    "# @Date: Saturday, August 20, 2022\n",
    "# https://int-brain-lab.github.io/iblenv/_autosummary/ibllib.io.raw_data_loaders.html?highlight=raw%20data%20loaders#ibllib.io.raw_data_loaders.load_camera_frameData\n",
    "\"\"\"\n",
    "\n",
    "Raw Data Loader functions for PyBpod rig\n",
    "\n",
    "Module contains one loader function per raw datafile\n",
    "\"\"\"\n",
    "#import things\n",
    "import json\n",
    "import logging\n",
    "import wave\n",
    "from datetime import datetime\n",
    "from pathlib import Path\n",
    "from typing import Union\n",
    "import matplotlib.pyplot as plt\n",
    "\n",
    "import itertools\n",
    "from glob import glob\n",
    "import pickle\n",
    "\n",
    "import numpy as np\n",
    "import pandas as pd\n",
    "\n",
    "#from ibllib.io import jsonable\n",
    "from ibllib.io import raw_data_loaders, video, ffmpeg\n",
    "from ibllib.misc import version"
   ]
  },
  {
   "cell_type": "markdown",
   "id": "3f38d68a",
   "metadata": {},
   "source": [
    "# Load data"
   ]
  },
  {
   "cell_type": "code",
   "execution_count": 25,
   "id": "c8751550",
   "metadata": {},
   "outputs": [
    {
     "name": "stdout",
     "output_type": "stream",
     "text": [
      "[    0     1     2 ... 17087 17088 17089]\n"
     ]
    }
   ],
   "source": [
    "# getting the session path \n",
    "basePath = r'C:\\iblrig_data\\Subjects//'\n",
    "subject = 'MBOT42_1840'\n",
    "date = '2022-08-20'\n",
    "session = '001'\n",
    "session_path = basePath + subject + '//' + date + '//' + session\n",
    "\n",
    "# load_camera_frameData(session_path, camera: str = 'left', raw: bool = False, collection='raw_video_data*')\n",
    "camera_frame_count = raw_data_loaders.load_camera_frame_count(session_path, 'left')\n",
    "print(camera_frame_count)\n",
    "\n",
    "#camera_ssv = raw_data_loaders.load_camera_ssv_times(session_path, 'left')\n",
    "#print(camera_ssv)\n",
    "\n",
    "#embedded_frame_data = raw_data_loaders.load_embedded_frame_data(session_path, 'left')\n",
    "#print(embedded_frame_data)\n",
    "\n",
    "#frames_count = len(res)\n",
    "#print(frames_count)\n",
    "#video_frames = video.get_video_frame"
   ]
  },
  {
   "cell_type": "code",
   "execution_count": null,
   "id": "7cf93f05",
   "metadata": {},
   "outputs": [],
   "source": []
  },
  {
   "cell_type": "code",
   "execution_count": null,
   "id": "cd1c5960",
   "metadata": {},
   "outputs": [],
   "source": []
  }
 ],
 "metadata": {
  "kernelspec": {
   "display_name": "Python 3 (ipykernel)",
   "language": "python",
   "name": "python3"
  },
  "language_info": {
   "codemirror_mode": {
    "name": "ipython",
    "version": 3
   },
   "file_extension": ".py",
   "mimetype": "text/x-python",
   "name": "python",
   "nbconvert_exporter": "python",
   "pygments_lexer": "ipython3",
   "version": "3.7.11"
  }
 },
 "nbformat": 4,
 "nbformat_minor": 5
}
