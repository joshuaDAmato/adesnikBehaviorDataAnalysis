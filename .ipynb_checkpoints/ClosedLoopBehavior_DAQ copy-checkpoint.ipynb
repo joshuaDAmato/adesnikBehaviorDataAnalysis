{
 "cells": [
  {
   "cell_type": "markdown",
   "metadata": {},
   "source": [
    "### LOAD AND PLOT DATA FROM A SESSION #### \n",
    "This notebook should run from within the iblenv.\n",
    "The functions are taken from the source code of the IBL library. \n",
    "\n",
    "For documentation check:\n",
    "\n",
    "https://int-brain-lab.github.io/iblenv/_autosummary/ibllib.io.raw_data_loaders.html?highlight=raw%20data%20loaders#module-ibllib.io.raw_data_loaders\n",
    "\n"
   ]
  },
  {
   "cell_type": "code",
   "execution_count": null,
   "metadata": {},
   "outputs": [],
   "source": [
    "#!/usr/bin/env python\n",
    "# -*- coding:utf-8 -*-\n",
    "# @Author: Mora Ogando\n",
    "# @Date: Sunday, July 4th 2021, 1:28:46 pm\n",
    "\"\"\"\n",
    "\n",
    "Raw Data Loader functions for PyBpod rig\n",
    "\n",
    "Module contains one loader function per raw datafile\n",
    "\"\"\"\n",
    "#import things\n",
    "import json\n",
    "import logging\n",
    "import wave\n",
    "from datetime import datetime\n",
    "from pathlib import Path\n",
    "from typing import Union\n",
    "import matplotlib.pyplot as plt\n",
    "\n",
    "import itertools\n",
    "import glob\n",
    "import pickle\n",
    "import numpy as np\n",
    "import pandas as pd\n",
    "from ibllib.io import raw_data_loaders\n",
    "import sys\n",
    "\n",
    "from matplotlib.backends.backend_pdf import PdfPages\n",
    "\n",
    "\n",
    "def moving_average(x, w):\n",
    "    return np.convolve(x, np.ones(w), 'valid') / w\n",
    "\n",
    "def appendColumnToDF(df,OneDArray,columnName,appendTO):\n",
    "# the number of elements in the 1dArray and the number of elements in the appendTO column (i.e.: 'cell') has to match.\n",
    "    # 1. create a pandas series with your array\n",
    "    series = pd.Series(list(OneDArray),name=columnName)\n",
    "    # 2. create the index (has to match the index in \"appendTO\")\n",
    "    index= pd.Series(np.arange(0,len(OneDArray)),name=appendTO)\n",
    "    # 3. make a DataFrame with these \n",
    "    appendDF = pd.DataFrame(series,index)\n",
    "    \n",
    "    #4. join it onto a new dataframe\n",
    "    try:\n",
    "        df.reset_index(inplace=True)\n",
    "    except:\n",
    "        pass\n",
    "    df2 = df.set_index([appendTO])\n",
    "    df2 = df.join(appendDF,on=appendTO,how='left')\n",
    "    return df2\n",
    "\n",
    "def saveTrialWiseInfo_inServer(session_path):\n",
    "    #Load data \n",
    "    session_data = raw_data_loaders.load_data(session_path)\n",
    "    settings =raw_data_loaders.load_settings(session_path)\n",
    "    encoder_events = raw_data_loaders.load_encoder_events(session_path, settings=False)\n",
    "    encoder_positions =raw_data_loaders.load_encoder_positions(session_path, settings=False)\n",
    "    encoder_trial_info = raw_data_loaders.load_encoder_trial_info(session_path)\n",
    "\n",
    "    # correct responses is a boolean list of len = number of trials.\n",
    "    correct_responses = [session_data[i]['trial_correct'] for i in range(len(session_data))]\n",
    "\n",
    "    # append correct responses to trial info\n",
    "\n",
    "    # ((the number of elements in the 1dArray and the number of elements in the appendTO column (i.e.: 'cell') has to match.))\n",
    "    OneDArray = correct_responses\n",
    "    columnName = 'correct'\n",
    "    appendTO = 'trial_num'\n",
    "    trialInfo= appendColumnToDF(encoder_trial_info,OneDArray,columnName,appendTO)\n",
    "\n",
    "    # get the time in the same units and merge the encoder position with the trialInfo dataFrames\n",
    "    trialInfo['relative_time_ms'] = (pd.to_datetime(trialInfo.bns_ts).values -pd.to_datetime(trialInfo.bns_ts).values[0])/1000000\n",
    "    trialInfo['relative_time_ms'] = trialInfo.relative_time_ms.astype(np.int64) \n",
    "    encoder_positions['relative_time_ms'] = (encoder_positions.re_ts.values- encoder_positions.re_ts.values[0])/1000\n",
    "    merged_df = pd.merge(trialInfo, encoder_positions, on = 'relative_time_ms',how='outer')\n",
    "\n",
    "    # save\n",
    "\n",
    "    name = 'behavior_analysis_df'\n",
    "\n",
    "    merged_df.to_csv(path + name + '.csv')\n",
    "    out_path = r'W:\\Satsuma\\Mora//' + path.split('C:\\\\')[-1]\n",
    "    out_path \n",
    "    import os\n",
    "    try:\n",
    "        os.makedirs(out_path)\n",
    "        print('created a new results folder')\n",
    "    except:\n",
    "        print('couldnt make folder')\n",
    "        print(out_path)\n",
    "\n",
    "    merged_df.to_csv(out_path + name + '.csv')\n",
    "    trialInfo.to_csv(out_path + 'trialInfo.csv')\n",
    "    return  merged_df,trialInfo"
   ]
  },
  {
   "cell_type": "code",
   "execution_count": 104,
   "metadata": {},
   "outputs": [
    {
     "name": "stdout",
     "output_type": "stream",
     "text": [
      "- init_datetime, value type is: <class 'str'>\n",
      "- task_protocol, value type is: <class 'str'>\n",
      "- data_file_path, value type is: <class 'str'>\n",
      "- data_file, value type is: <class 'str'>\n",
      "- position_set, value type is: <class 'list'>\n",
      "- ResponseThresholds, value type is: <class 'list'>\n",
      "- repeat_on_error, value type is: <class 'bool'>\n",
      "- repeat_contrasts, value type is: <class 'list'>\n",
      "- threshold_events_dict, value type is: <class 'dict'>\n",
      "- quiescent_period_base, value type is: <class 'float'>\n",
      "- quiescent_period, value type is: <class 'float'>\n",
      "- response_window, value type is: <class 'int'>\n",
      "- interactive_delay, value type is: <class 'float'>\n",
      "- iti_error, value type is: <class 'int'>\n",
      "- iti_correct_target, value type is: <class 'int'>\n",
      "- osc_client, value type is: <class 'str'>\n",
      "- stim_freq, value type is: <class 'float'>\n",
      "- stim_angles, value type is: <class 'list'>\n",
      "- stim_gains, value type is: <class 'list'>\n",
      "- stim_gain, value type is: <class 'float'>\n",
      "- stim_sigma, value type is: <class 'float'>\n",
      "- out_tone, value type is: <class 'list'>\n",
      "- out_noise, value type is: <class 'list'>\n",
      "- out_stop_sound, value type is: <class 'list'>\n",
      "- poop_count, value type is: <class 'bool'>\n",
      "- save_ambient_data, value type is: <class 'bool'>\n",
      "- as_data, value type is: <class 'dict'>\n",
      "- reward_amount, value type is: <class 'float'>\n",
      "- reward_valve_time, value type is: <class 'float'>\n",
      "- iti_correct, value type is: <class 'float'>\n",
      "- ac, value type is: <class 'dict'>\n",
      "- rc, value type is: <class 'dict'>\n",
      "- contrast_set, value type is: <class 'list'>\n",
      "- trial_num, value type is: <class 'int'>\n",
      "- position, value type is: <class 'int'>\n",
      "- stim_probability_left, value type is: <class 'float'>\n",
      "- stim_phase, value type is: <class 'float'>\n",
      "- event_error, value type is: <class 'str'>\n",
      "- event_reward, value type is: <class 'str'>\n",
      "- movement_left, value type is: <class 'str'>\n",
      "- movement_right, value type is: <class 'str'>\n",
      "- contrast, value type is: <class 'dict'>\n",
      "- current_contrast, value type is: <class 'float'>\n",
      "- signed_contrast, value type is: <class 'float'>\n",
      "- signed_contrast_buffer, value type is: <class 'str'>\n",
      "- elapsed_time, value type is: <class 'str'>\n",
      "- behavior_data, value type is: <class 'dict'>\n",
      "- response_time, value type is: <class 'float'>\n",
      "- response_time_buffer, value type is: <class 'str'>\n",
      "- response_buffer, value type is: <class 'list'>\n",
      "- response_side_buffer, value type is: <class 'str'>\n",
      "- trial_correct, value type is: <class 'bool'>\n",
      "- ntrials_correct, value type is: <class 'int'>\n",
      "- water_delivered, value type is: <class 'float'>\n",
      "- non_rc_ntrials, value type is: <class 'int'>\n",
      "- angle_threshold, value type is: <class 'int'>\n",
      "- useExternalTrialConds, value type is: <class 'bool'>\n",
      "- stim_angle, value type is: <class 'float'>\n",
      "- stim_lastAngle, value type is: <class 'float'>\n",
      "- stim_reverse, value type is: <class 'int'>\n"
     ]
    }
   ],
   "source": [
    "session_path = '/Users/joshuadamato/My Drive/Adesnik Lab/SampleData/2022-09-06/0**'\n",
    "for session in glob.iglob(session_path): \n",
    "    # load data\n",
    "    session_data = raw_data_loaders.load_data(session)\n",
    "    settings =raw_data_loaders.load_settings(session)\n",
    "    encoder_events = raw_data_loaders.load_encoder_events(session, settings=False)\n",
    "    encoder_positions =raw_data_loaders.load_encoder_positions(session, settings=False)\n",
    "    encoder_trial_info = raw_data_loaders.load_encoder_trial_info(session)\n",
    "    \n",
    "    # correct responses is a boolean list of len = number of trials\n",
    "    # it's true where the subject's response was correct\n",
    "    correct_responses = [session_data[i]['trial_correct'] for i in range(len(session_data))]\n",
    "\n",
    "    # ((the number of elements in the 1dArray and the number of elements in the appendTO column (i.e.: 'cell') has to match.))\n",
    "    OneDArray = correct_responses\n",
    "    columnName = 'correct'\n",
    "    appendTO = 'trial_num'\n",
    "    trialInfo= appendColumnToDF(encoder_trial_info,OneDArray,columnName,appendTO)\n",
    "\n",
    "for key in list(session_data[0].keys()):\n",
    "    print('- ' + key + ', value type is: ' + str(type(session_data[0][key])))\n",
    "#     window = 50# how many trials to average \n",
    "#     firsttrial=0\n",
    "#     lasttrial=4000\n",
    "#     print('fraction correct for session ' + 'was ' + str(np.mean(correct_responses[:lasttrial])))\n",
    "#     # get the info of which angle was shown at each trial \n",
    "#     stim_angle= [session_data[i]['stim_angle'] for i in range(len(session_data[:lasttrial]))]\n",
    "\n",
    "#     deg90 = np.where(np.array(stim_angle)>0)[0][firsttrial:lasttrial] # array of trial numbers where the angle was more than 0\n",
    "#     deg0= np.where(np.array(stim_angle)<=0)[0][firsttrial:lasttrial] # array of trial numbers where the angle was 0\n",
    "#     correct90 = [correct_responses[i] for i in deg90]#@[firsttrial:lasttrial]\n",
    "#     correct0 = [correct_responses[i] for i in deg0]#[firsttrial:lasttrial]\n",
    "\n",
    "#     # get the % of correct responses for each angle across the whole session\n",
    "#     # get this put into a txt file to access later (a running text file)\n",
    "#     # add a timestamp of the start of the first trial as well as mouse number\n",
    "#     # that way we can quickly parse all of this later \n",
    "# #     print('fraction correct for angle 0 = ' + str(np.nanmean(correct0)))\n",
    "# #     print('fraction correct for angle 90 = ' + str(np.mean(correct90)))\n",
    "\n",
    "\n",
    "#     # plot a moving average of the correct responses across trials for a given window\n",
    "#     plt.plot(moving_average(correct_responses[firsttrial:lasttrial],window))\n",
    "#     plt.title('Correct choices vs trial number',fontsize = 20)\n",
    "#     plt.xlabel('trial number',fontsize = 15)\n",
    "#     plt.ylabel('correct resposes',fontsize = 15)\n",
    "\n",
    "#     plt.ylim(0,1)\n",
    "    "
   ]
  },
  {
   "cell_type": "markdown",
   "metadata": {},
   "source": [
    "### Merge session info and save it in the server ###"
   ]
  },
  {
   "cell_type": "code",
   "execution_count": 34,
   "metadata": {},
   "outputs": [],
   "source": [
    "# top is for locally stored files, bottom is for files stored on the server \n",
    "# session_path = basePath + subject + '//' + date + '//' + session\n",
    "# session_path = r'C:\\iblrig_data\\Subjects\\MBOT42_1840\\2022-09-06\\001' #serverPath + subject + '//' + date + '//' + session\n",
    "\n",
    "# alternate path to server: session_path = r'Z:\\moraogando\\IBLdata\\Box2_basement\\MBOT56_79\\2022-09-06\\002//'\n",
    "session_path = r'/Users/joshuadamato/My Drive/Adesnik Lab/SampleData/2022-09-06/0**'\n",
    "glob.iglob()\n",
    "\n",
    "\n",
    "#Load data \n",
    "session_data = raw_data_loaders.load_data(session_path)\n",
    "settings =raw_data_loaders.load_settings(session_path)\n",
    "encoder_events = raw_data_loaders.load_encoder_events(session_path, settings=False)\n",
    "encoder_positions =raw_data_loaders.load_encoder_positions(session_path, settings=False)\n",
    "encoder_trial_info = raw_data_loaders.load_encoder_trial_info(session_path)\n",
    "\n",
    "# correct responses is a boolean list of len = number of trials.\n",
    "correct_responses = [session_data[i]['trial_correct'] for i in range(len(session_data))]\n",
    "\n",
    "# append correct responses to trial info\n",
    "\n",
    "# ((the number of elements in the 1dArray and the number of elements in the appendTO column (i.e.: 'cell') has to match.))\n",
    "OneDArray = correct_responses\n",
    "columnName = 'correct'\n",
    "appendTO = 'trial_num'\n",
    "trialInfo= appendColumnToDF(encoder_trial_info,OneDArray,columnName,appendTO)\n",
    "\n",
    "# # # get the time in the same units and merge the encoder position with the trialInfo dataFrames\n",
    "# trialInfo['relative_time_ms'] = (pd.to_datetime(trialInfo.bns_ts).values -pd.to_datetime(trialInfo.bns_ts).values[0])/1000000\n",
    "# trialInfo['relative_time_ms'] = trialInfo.relative_time_ms.astype(np.int64) \n",
    "# encoder_positions['relative_time_ms'] = (encoder_positions.re_ts.values- encoder_positions.re_ts.values[0])/1000\n",
    "# merged_df = pd.merge(trialInfo, encoder_positions, on = 'relative_time_ms',how='outer')"
   ]
  },
  {
   "cell_type": "code",
   "execution_count": 35,
   "metadata": {},
   "outputs": [
    {
     "data": {
      "text/plain": [
       "31"
      ]
     },
     "execution_count": 35,
     "metadata": {},
     "output_type": "execute_result"
    }
   ],
   "source": [
    "# not included in single cell format\n",
    "session_data[30]['trial_num']"
   ]
  },
  {
   "cell_type": "code",
   "execution_count": 100,
   "metadata": {},
   "outputs": [
    {
     "data": {
      "text/html": [
       "<div>\n",
       "<style scoped>\n",
       "    .dataframe tbody tr th:only-of-type {\n",
       "        vertical-align: middle;\n",
       "    }\n",
       "\n",
       "    .dataframe tbody tr th {\n",
       "        vertical-align: top;\n",
       "    }\n",
       "\n",
       "    .dataframe thead th {\n",
       "        text-align: right;\n",
       "    }\n",
       "</style>\n",
       "<table border=\"1\" class=\"dataframe\">\n",
       "  <thead>\n",
       "    <tr style=\"text-align: right;\">\n",
       "      <th></th>\n",
       "      <th>index</th>\n",
       "      <th>re_ts</th>\n",
       "      <th>re_pos</th>\n",
       "    </tr>\n",
       "  </thead>\n",
       "  <tbody>\n",
       "    <tr>\n",
       "      <th>0</th>\n",
       "      <td>0</td>\n",
       "      <td>6997.0</td>\n",
       "      <td>1</td>\n",
       "    </tr>\n",
       "    <tr>\n",
       "      <th>1</th>\n",
       "      <td>1</td>\n",
       "      <td>712750.0</td>\n",
       "      <td>0</td>\n",
       "    </tr>\n",
       "    <tr>\n",
       "      <th>2</th>\n",
       "      <td>2</td>\n",
       "      <td>1137522.0</td>\n",
       "      <td>-1</td>\n",
       "    </tr>\n",
       "    <tr>\n",
       "      <th>3</th>\n",
       "      <td>3</td>\n",
       "      <td>1254601.0</td>\n",
       "      <td>0</td>\n",
       "    </tr>\n",
       "    <tr>\n",
       "      <th>4</th>\n",
       "      <td>4</td>\n",
       "      <td>1263125.0</td>\n",
       "      <td>1</td>\n",
       "    </tr>\n",
       "    <tr>\n",
       "      <th>...</th>\n",
       "      <td>...</td>\n",
       "      <td>...</td>\n",
       "      <td>...</td>\n",
       "    </tr>\n",
       "    <tr>\n",
       "      <th>109197</th>\n",
       "      <td>109197</td>\n",
       "      <td>670915592.0</td>\n",
       "      <td>-36</td>\n",
       "    </tr>\n",
       "    <tr>\n",
       "      <th>109198</th>\n",
       "      <td>109198</td>\n",
       "      <td>670919471.0</td>\n",
       "      <td>-35</td>\n",
       "    </tr>\n",
       "    <tr>\n",
       "      <th>109199</th>\n",
       "      <td>109199</td>\n",
       "      <td>670923370.0</td>\n",
       "      <td>-34</td>\n",
       "    </tr>\n",
       "    <tr>\n",
       "      <th>109200</th>\n",
       "      <td>109200</td>\n",
       "      <td>670927430.0</td>\n",
       "      <td>-33</td>\n",
       "    </tr>\n",
       "    <tr>\n",
       "      <th>109201</th>\n",
       "      <td>109201</td>\n",
       "      <td>670931834.0</td>\n",
       "      <td>-32</td>\n",
       "    </tr>\n",
       "  </tbody>\n",
       "</table>\n",
       "<p>109202 rows × 3 columns</p>\n",
       "</div>"
      ],
      "text/plain": [
       "         index        re_ts  re_pos\n",
       "0            0       6997.0       1\n",
       "1            1     712750.0       0\n",
       "2            2    1137522.0      -1\n",
       "3            3    1254601.0       0\n",
       "4            4    1263125.0       1\n",
       "...        ...          ...     ...\n",
       "109197  109197  670915592.0     -36\n",
       "109198  109198  670919471.0     -35\n",
       "109199  109199  670923370.0     -34\n",
       "109200  109200  670927430.0     -33\n",
       "109201  109201  670931834.0     -32\n",
       "\n",
       "[109202 rows x 3 columns]"
      ]
     },
     "execution_count": 100,
     "metadata": {},
     "output_type": "execute_result"
    }
   ],
   "source": [
    "# not included in single cell format\n",
    "encoder_positions"
   ]
  },
  {
   "cell_type": "code",
   "execution_count": 37,
   "metadata": {},
   "outputs": [
    {
     "data": {
      "text/html": [
       "<div>\n",
       "<style scoped>\n",
       "    .dataframe tbody tr th:only-of-type {\n",
       "        vertical-align: middle;\n",
       "    }\n",
       "\n",
       "    .dataframe tbody tr th {\n",
       "        vertical-align: top;\n",
       "    }\n",
       "\n",
       "    .dataframe thead th {\n",
       "        text-align: right;\n",
       "    }\n",
       "</style>\n",
       "<table border=\"1\" class=\"dataframe\">\n",
       "  <thead>\n",
       "    <tr style=\"text-align: right;\">\n",
       "      <th></th>\n",
       "      <th>correct</th>\n",
       "    </tr>\n",
       "    <tr>\n",
       "      <th>stim_contrast</th>\n",
       "      <th></th>\n",
       "    </tr>\n",
       "  </thead>\n",
       "  <tbody>\n",
       "    <tr>\n",
       "      <th>0.25</th>\n",
       "      <td>0.885714</td>\n",
       "    </tr>\n",
       "    <tr>\n",
       "      <th>0.50</th>\n",
       "      <td>0.854545</td>\n",
       "    </tr>\n",
       "    <tr>\n",
       "      <th>1.00</th>\n",
       "      <td>0.803030</td>\n",
       "    </tr>\n",
       "  </tbody>\n",
       "</table>\n",
       "</div>"
      ],
      "text/plain": [
       "                correct\n",
       "stim_contrast          \n",
       "0.25           0.885714\n",
       "0.50           0.854545\n",
       "1.00           0.803030"
      ]
     },
     "execution_count": 37,
     "metadata": {},
     "output_type": "execute_result"
    }
   ],
   "source": [
    "# not included in single cell format\n",
    "only_contrasts_and_accuracy= trialInfo[[\"stim_contrast\", \"correct\"]].dropna()\n",
    "only_contrasts_and_accuracy['correct'] = only_contrasts_and_accuracy['correct'].astype('int')\n",
    "only_contrasts_and_accuracy.groupby('stim_contrast').agg(np.mean)\n"
   ]
  },
  {
   "cell_type": "code",
   "execution_count": 38,
   "metadata": {},
   "outputs": [
    {
     "data": {
      "text/html": [
       "<div>\n",
       "<style scoped>\n",
       "    .dataframe tbody tr th:only-of-type {\n",
       "        vertical-align: middle;\n",
       "    }\n",
       "\n",
       "    .dataframe tbody tr th {\n",
       "        vertical-align: top;\n",
       "    }\n",
       "\n",
       "    .dataframe thead th {\n",
       "        text-align: right;\n",
       "    }\n",
       "</style>\n",
       "<table border=\"1\" class=\"dataframe\">\n",
       "  <thead>\n",
       "    <tr style=\"text-align: right;\">\n",
       "      <th></th>\n",
       "      <th>index</th>\n",
       "      <th>trial_num</th>\n",
       "      <th>stim_pos_init</th>\n",
       "      <th>stim_contrast</th>\n",
       "      <th>stim_freq</th>\n",
       "      <th>stim_angle</th>\n",
       "      <th>stim_gain</th>\n",
       "      <th>stim_sigma</th>\n",
       "      <th>stim_phase</th>\n",
       "      <th>bns_ts</th>\n",
       "      <th>correct</th>\n",
       "    </tr>\n",
       "  </thead>\n",
       "  <tbody>\n",
       "    <tr>\n",
       "      <th>0</th>\n",
       "      <td>0</td>\n",
       "      <td>1</td>\n",
       "      <td>-1</td>\n",
       "      <td>1.0</td>\n",
       "      <td>0.06</td>\n",
       "      <td>-0.785398</td>\n",
       "      <td>3.0</td>\n",
       "      <td>10000</td>\n",
       "      <td>0.000000</td>\n",
       "      <td>2022-09-06T22:52:50.9112448-07:00</td>\n",
       "      <td>False</td>\n",
       "    </tr>\n",
       "    <tr>\n",
       "      <th>1</th>\n",
       "      <td>1</td>\n",
       "      <td>2</td>\n",
       "      <td>1</td>\n",
       "      <td>0.5</td>\n",
       "      <td>0.06</td>\n",
       "      <td>0.785398</td>\n",
       "      <td>1.5</td>\n",
       "      <td>10000</td>\n",
       "      <td>142.737293</td>\n",
       "      <td>2022-09-06T22:52:58.9315200-07:00</td>\n",
       "      <td>False</td>\n",
       "    </tr>\n",
       "    <tr>\n",
       "      <th>2</th>\n",
       "      <td>2</td>\n",
       "      <td>3</td>\n",
       "      <td>1</td>\n",
       "      <td>0.5</td>\n",
       "      <td>0.06</td>\n",
       "      <td>0.785398</td>\n",
       "      <td>1.5</td>\n",
       "      <td>10000</td>\n",
       "      <td>212.813709</td>\n",
       "      <td>2022-09-06T22:53:22.3852800-07:00</td>\n",
       "      <td>False</td>\n",
       "    </tr>\n",
       "    <tr>\n",
       "      <th>3</th>\n",
       "      <td>3</td>\n",
       "      <td>4</td>\n",
       "      <td>1</td>\n",
       "      <td>0.5</td>\n",
       "      <td>0.06</td>\n",
       "      <td>0.785398</td>\n",
       "      <td>1.5</td>\n",
       "      <td>10000</td>\n",
       "      <td>214.865512</td>\n",
       "      <td>2022-09-06T22:53:45.7392256-07:00</td>\n",
       "      <td>False</td>\n",
       "    </tr>\n",
       "    <tr>\n",
       "      <th>4</th>\n",
       "      <td>4</td>\n",
       "      <td>5</td>\n",
       "      <td>1</td>\n",
       "      <td>0.5</td>\n",
       "      <td>0.06</td>\n",
       "      <td>0.785398</td>\n",
       "      <td>1.5</td>\n",
       "      <td>10000</td>\n",
       "      <td>109.782956</td>\n",
       "      <td>2022-09-06T22:54:09.3265536-07:00</td>\n",
       "      <td>False</td>\n",
       "    </tr>\n",
       "    <tr>\n",
       "      <th>...</th>\n",
       "      <td>...</td>\n",
       "      <td>...</td>\n",
       "      <td>...</td>\n",
       "      <td>...</td>\n",
       "      <td>...</td>\n",
       "      <td>...</td>\n",
       "      <td>...</td>\n",
       "      <td>...</td>\n",
       "      <td>...</td>\n",
       "      <td>...</td>\n",
       "      <td>...</td>\n",
       "    </tr>\n",
       "    <tr>\n",
       "      <th>188</th>\n",
       "      <td>188</td>\n",
       "      <td>189</td>\n",
       "      <td>1</td>\n",
       "      <td>1.0</td>\n",
       "      <td>0.06</td>\n",
       "      <td>0.785398</td>\n",
       "      <td>1.5</td>\n",
       "      <td>10000</td>\n",
       "      <td>195.802003</td>\n",
       "      <td>2022-09-06T23:16:06.4256896-07:00</td>\n",
       "      <td>False</td>\n",
       "    </tr>\n",
       "    <tr>\n",
       "      <th>189</th>\n",
       "      <td>189</td>\n",
       "      <td>190</td>\n",
       "      <td>1</td>\n",
       "      <td>0.5</td>\n",
       "      <td>0.06</td>\n",
       "      <td>0.785398</td>\n",
       "      <td>1.5</td>\n",
       "      <td>10000</td>\n",
       "      <td>200.683266</td>\n",
       "      <td>2022-09-06T23:16:10.9931392-07:00</td>\n",
       "      <td>True</td>\n",
       "    </tr>\n",
       "    <tr>\n",
       "      <th>190</th>\n",
       "      <td>190</td>\n",
       "      <td>191</td>\n",
       "      <td>1</td>\n",
       "      <td>0.5</td>\n",
       "      <td>0.06</td>\n",
       "      <td>0.785398</td>\n",
       "      <td>1.5</td>\n",
       "      <td>10000</td>\n",
       "      <td>359.289616</td>\n",
       "      <td>2022-09-06T23:16:34.9147520-07:00</td>\n",
       "      <td>True</td>\n",
       "    </tr>\n",
       "    <tr>\n",
       "      <th>191</th>\n",
       "      <td>191</td>\n",
       "      <td>192</td>\n",
       "      <td>-1</td>\n",
       "      <td>1.0</td>\n",
       "      <td>0.06</td>\n",
       "      <td>-0.785398</td>\n",
       "      <td>3.0</td>\n",
       "      <td>10000</td>\n",
       "      <td>296.444799</td>\n",
       "      <td>2022-09-06T23:16:39.2654336-07:00</td>\n",
       "      <td>NaN</td>\n",
       "    </tr>\n",
       "    <tr>\n",
       "      <th>192</th>\n",
       "      <td>192</td>\n",
       "      <td>193</td>\n",
       "      <td>-1</td>\n",
       "      <td>1.0</td>\n",
       "      <td>0.06</td>\n",
       "      <td>-0.785398</td>\n",
       "      <td>3.0</td>\n",
       "      <td>10000</td>\n",
       "      <td>271.268066</td>\n",
       "      <td>2022-09-06T23:16:43.5495296-07:00</td>\n",
       "      <td>NaN</td>\n",
       "    </tr>\n",
       "  </tbody>\n",
       "</table>\n",
       "<p>193 rows × 11 columns</p>\n",
       "</div>"
      ],
      "text/plain": [
       "     index  trial_num  stim_pos_init  stim_contrast  stim_freq  stim_angle  \\\n",
       "0        0          1             -1            1.0       0.06   -0.785398   \n",
       "1        1          2              1            0.5       0.06    0.785398   \n",
       "2        2          3              1            0.5       0.06    0.785398   \n",
       "3        3          4              1            0.5       0.06    0.785398   \n",
       "4        4          5              1            0.5       0.06    0.785398   \n",
       "..     ...        ...            ...            ...        ...         ...   \n",
       "188    188        189              1            1.0       0.06    0.785398   \n",
       "189    189        190              1            0.5       0.06    0.785398   \n",
       "190    190        191              1            0.5       0.06    0.785398   \n",
       "191    191        192             -1            1.0       0.06   -0.785398   \n",
       "192    192        193             -1            1.0       0.06   -0.785398   \n",
       "\n",
       "     stim_gain  stim_sigma  stim_phase                             bns_ts  \\\n",
       "0          3.0       10000    0.000000  2022-09-06T22:52:50.9112448-07:00   \n",
       "1          1.5       10000  142.737293  2022-09-06T22:52:58.9315200-07:00   \n",
       "2          1.5       10000  212.813709  2022-09-06T22:53:22.3852800-07:00   \n",
       "3          1.5       10000  214.865512  2022-09-06T22:53:45.7392256-07:00   \n",
       "4          1.5       10000  109.782956  2022-09-06T22:54:09.3265536-07:00   \n",
       "..         ...         ...         ...                                ...   \n",
       "188        1.5       10000  195.802003  2022-09-06T23:16:06.4256896-07:00   \n",
       "189        1.5       10000  200.683266  2022-09-06T23:16:10.9931392-07:00   \n",
       "190        1.5       10000  359.289616  2022-09-06T23:16:34.9147520-07:00   \n",
       "191        3.0       10000  296.444799  2022-09-06T23:16:39.2654336-07:00   \n",
       "192        3.0       10000  271.268066  2022-09-06T23:16:43.5495296-07:00   \n",
       "\n",
       "    correct  \n",
       "0     False  \n",
       "1     False  \n",
       "2     False  \n",
       "3     False  \n",
       "4     False  \n",
       "..      ...  \n",
       "188   False  \n",
       "189    True  \n",
       "190    True  \n",
       "191     NaN  \n",
       "192     NaN  \n",
       "\n",
       "[193 rows x 11 columns]"
      ]
     },
     "execution_count": 38,
     "metadata": {},
     "output_type": "execute_result"
    }
   ],
   "source": [
    "# not included in single cell format\n",
    "trialInfo"
   ]
  },
  {
   "cell_type": "markdown",
   "metadata": {},
   "source": [
    "### Make behavior stim conditions to synchronize holography and pybpod ###"
   ]
  },
  {
   "cell_type": "code",
   "execution_count": null,
   "metadata": {},
   "outputs": [],
   "source": []
  },
  {
   "cell_type": "code",
   "execution_count": 39,
   "metadata": {},
   "outputs": [
    {
     "name": "stdout",
     "output_type": "stream",
     "text": [
      "fraction correct for session was 0.8489583333333334\n",
      "fraction correct for angle 0 = 0.8888888888888888\n",
      "fraction correct for angle 90 = 0.7976190476190477\n"
     ]
    },
    {
     "data": {
      "text/plain": [
       "(0.0, 1.0)"
      ]
     },
     "execution_count": 39,
     "metadata": {},
     "output_type": "execute_result"
    },
    {
     "data": {
      "image/png": "[encoded data removed]",
      "text/plain": [
       "<Figure size 640x480 with 1 Axes>"
      ]
     },
     "metadata": {},
     "output_type": "display_data"
    }
   ],
   "source": [
    "window = 50# how many trials to average \n",
    "firsttrial=0\n",
    "lasttrial=4000\n",
    "print('fraction correct for session ' + 'was ' + str(np.mean(correct_responses[:lasttrial])))\n",
    "# get the info of which angle was shown at each trial \n",
    "stim_angle= [session_data[i]['stim_angle'] for i in range(len(session_data[:lasttrial]))]\n",
    "\n",
    "deg90 = np.where(np.array(stim_angle)>0)[0][firsttrial:lasttrial] # array of trial numbers where the angle was more than 0\n",
    "deg0= np.where(np.array(stim_angle)<=0)[0][firsttrial:lasttrial] # array of trial numbers where the angle was 0\n",
    "correct90 = [correct_responses[i] for i in deg90]#@[firsttrial:lasttrial]\n",
    "correct0 = [correct_responses[i] for i in deg0]#[firsttrial:lasttrial]\n",
    "\n",
    "#get the % of correct responses for each angle across the whole session\n",
    "print('fraction correct for angle 0 = ' + str(np.nanmean(correct0)))\n",
    "print('fraction correct for angle 90 = ' + str(np.mean(correct90)))\n",
    "\n",
    "\n",
    "# plot a moving average of the correct responses across trials for a given window\n",
    "plt.plot(moving_average(correct_responses[firsttrial:lasttrial],window))\n",
    "plt.title('Correct choices vs trial number',fontsize = 20)\n",
    "plt.xlabel('trial number',fontsize = 15)\n",
    "plt.ylabel('correct resposes',fontsize = 15)\n",
    "\n",
    "plt.ylim(0,1)"
   ]
  },
  {
   "cell_type": "code",
   "execution_count": 40,
   "metadata": {
    "scrolled": true
   },
   "outputs": [
    {
     "data": {
      "image/png": "[encoded data removed]",
      "text/plain": [
       "<Figure size 640x480 with 1 Axes>"
      ]
     },
     "metadata": {},
     "output_type": "display_data"
    }
   ],
   "source": [
    "#plot % of correct responses for each angle across the whole session with a rolling average\n",
    "# if correct responses are higher for one of the gratings, this indicates a bias.\n",
    "\n",
    "window = 20\n",
    "plt.plot(moving_average(correct90,window))\n",
    "plt.plot(moving_average(correct0,window))\n",
    "plt.title('Correct choices vs trial number for each angle',fontsize = 20)\n",
    "plt.xlabel('trial number',fontsize = 15)\n",
    "plt.ylabel('correct resposes',fontsize = 15)\n",
    "plt.ylim(0,1.1)\n",
    "xmax = max(len(correct90),len(correct0))\n",
    "plt.hlines(0.5, 0, xmax, colors='black',linestyles='dashed')\n",
    "plt.legend(['angle =  ' + str(i) for i in [-45,45]])\n",
    "plt.savefig(session_path + '//Correct_vs_trial_per_angle')\n"
   ]
  },
  {
   "cell_type": "code",
   "execution_count": 41,
   "metadata": {
    "scrolled": true
   },
   "outputs": [
    {
     "data": {
      "text/plain": [
       "'/Users/joshuadamato/My Drive/Adesnik Lab/SampleData/2022-09-06/001'"
      ]
     },
     "execution_count": 41,
     "metadata": {},
     "output_type": "execute_result"
    }
   ],
   "source": [
    "session_path"
   ]
  },
  {
   "cell_type": "code",
   "execution_count": 42,
   "metadata": {
    "scrolled": false
   },
   "outputs": [
    {
     "name": "stdout",
     "output_type": "stream",
     "text": [
      "Percent Left Choices:\n",
      "0.5625\n",
      "Percent Absolute Bias:\n",
      "0.0625\n"
     ]
    }
   ],
   "source": [
    "# compute the bias:\n",
    "\n",
    "# bias computation for repeat_on_error on sessions\n",
    "# %Left = ([N trials where angle presented was 0 & mouse was correct] + [N trials where angle presented was 90 and mouse was incorrect])/NtotalTrials\n",
    "percent_left = (len(correct0) + (len(deg90)-len(correct90)))/(len(deg0)+len(deg90))\n",
    "# Absolute bias = np.abs(0.5 - %Left)\n",
    "abs_bias = np.abs(0.5 - percent_left)\n",
    "\n",
    "# bias computation for repeat_on_error off sessions:\n",
    "\n",
    "# bar chart of % abs bias\n",
    "# categories = ['repeat_on_error on', 'repeat_on_error off']\n",
    "# values = [abs_bias_on, abs_bias_off]\n",
    "# plt.bar(categories, values)\n",
    "\n",
    "print('Percent Left Choices:')\n",
    "print(percent_left)\n",
    "print('Percent Absolute Bias:')\n",
    "print(abs_bias)"
   ]
  },
  {
   "cell_type": "code",
   "execution_count": 43,
   "metadata": {},
   "outputs": [
    {
     "name": "stdout",
     "output_type": "stream",
     "text": [
      "84\n",
      "108\n"
     ]
    }
   ],
   "source": [
    "print(len(deg90))\n",
    "print(len(deg0))"
   ]
  },
  {
   "cell_type": "code",
   "execution_count": 44,
   "metadata": {},
   "outputs": [
    {
     "data": {
      "text/plain": [
       "1.5707963267948966"
      ]
     },
     "execution_count": 44,
     "metadata": {},
     "output_type": "execute_result"
    }
   ],
   "source": [
    "import math\n",
    "math.pi/2"
   ]
  },
  {
   "cell_type": "code",
   "execution_count": 45,
   "metadata": {},
   "outputs": [
    {
     "data": {
      "text/plain": [
       "0.015"
      ]
     },
     "execution_count": 45,
     "metadata": {},
     "output_type": "execute_result"
    }
   ],
   "source": [
    "1*0.015"
   ]
  },
  {
   "cell_type": "code",
   "execution_count": 46,
   "metadata": {},
   "outputs": [
    {
     "data": {
      "text/plain": [
       "0.0125"
      ]
     },
     "execution_count": 46,
     "metadata": {},
     "output_type": "execute_result"
    }
   ],
   "source": [
    "0.25*0.05"
   ]
  },
  {
   "cell_type": "code",
   "execution_count": 31,
   "metadata": {},
   "outputs": [
    {
     "data": {
      "text/plain": [
       "0.7161972439135291"
      ]
     },
     "execution_count": 31,
     "metadata": {},
     "output_type": "execute_result"
    }
   ],
   "source": [
    "math.degrees(0.25*0.05)#%180"
   ]
  },
  {
   "cell_type": "code",
   "execution_count": 32,
   "metadata": {},
   "outputs": [
    {
     "data": {
      "text/plain": [
       "106.47889756541161"
      ]
     },
     "execution_count": 32,
     "metadata": {},
     "output_type": "execute_result"
    }
   ],
   "source": [
    "math.degrees(0.25/0.05)%180"
   ]
  },
  {
   "cell_type": "code",
   "execution_count": null,
   "metadata": {},
   "outputs": [],
   "source": []
  },
  {
   "cell_type": "code",
   "execution_count": null,
   "metadata": {},
   "outputs": [],
   "source": []
  },
  {
   "cell_type": "code",
   "execution_count": null,
   "metadata": {},
   "outputs": [],
   "source": []
  }
 ],
 "metadata": {
  "kernelspec": {
   "display_name": "Python 3 (ipykernel)",
   "language": "python",
   "name": "python3"
  },
  "language_info": {
   "codemirror_mode": {
    "name": "ipython",
    "version": 3
   },
   "file_extension": ".py",
   "mimetype": "text/x-python",
   "name": "python",
   "nbconvert_exporter": "python",
   "pygments_lexer": "ipython3",
   "version": "3.8.13"
  }
 },
 "nbformat": 4,
 "nbformat_minor": 4
}
