{
 "cells": [
  {
   "cell_type": "markdown",
   "metadata": {},
   "source": [
    "<font size=\"+1\">This notebook will illustrate how to access DeepLabCut(DLC) results for IBL sessions and how to create short videos with DLC labels printed onto, as well as wheel angle, starting by downloading data from the IBL flatiron server. It requires ibllib, a ONE account and the following script: https://github.com/int-brain-lab/iblapps/blob/master/DLC_labeled_video.py</font>"
   ]
  },
  {
   "cell_type": "code",
   "execution_count": 1,
   "metadata": {},
   "outputs": [],
   "source": [
    "run '/home/mic/Dropbox/scripts/IBL/DLC_labeled_video.py'"
   ]
  },
  {
   "cell_type": "code",
   "execution_count": 2,
   "metadata": {
    "scrolled": true
   },
   "outputs": [
    {
     "name": "stdout",
     "output_type": "stream",
     "text": [
      "Connected to https://alyx.internationalbrainlab.org as michael.schartner\n"
     ]
    }
   ],
   "source": [
    "one = ONE()"
   ]
  },
  {
   "cell_type": "markdown",
   "metadata": {},
   "source": [
    "Let's first find IBL ephys sessions with DLC results:"
   ]
  },
  {
   "cell_type": "code",
   "execution_count": 3,
   "metadata": {},
   "outputs": [],
   "source": [
    "eids= one.search(task_protocol='ephysChoiceworld', dataset_types=['camera.dlc'], details=False)"
   ]
  },
  {
   "cell_type": "code",
   "execution_count": 4,
   "metadata": {},
   "outputs": [
    {
     "data": {
      "text/plain": [
       "47"
      ]
     },
     "execution_count": 4,
     "metadata": {},
     "output_type": "execute_result"
    }
   ],
   "source": [
    "len(eids)"
   ]
  },
  {
   "cell_type": "markdown",
   "metadata": {},
   "source": [
    "For a particular session, we can create a short labeled video by calling the function Viewer, specifying the eid of the desired session, the video type (there's 'left', 'right' and 'body' videos), and a range of trials for which the video should be created. Most sesions have around 700 trials. In the following, this is illustrated with session '3663d82b-f197-4e8b-b299-7b803a155b84', video type 'left', trials range [10,13] and without a zoom for the eye, such that nose, paw and tongue tracking is visible. The eye-zoom option shows only the four points delineating the pupil edges, which are too small to be visible in the normal view. Note that this automatically starts the download of the video from flatiron (in case it is not locally stored already), which may take a while since these videos are about 8 GB large.  "
   ]
  },
  {
   "cell_type": "code",
   "execution_count": 5,
   "metadata": {},
   "outputs": [],
   "source": [
    "eid = eids[6]"
   ]
  },
  {
   "cell_type": "code",
   "execution_count": 6,
   "metadata": {},
   "outputs": [
    {
     "name": "stdout",
     "output_type": "stream",
     "text": [
      "Connected to https://alyx.internationalbrainlab.org as michael.schartner\n",
      "Connected to https://alyx.internationalbrainlab.org as michael.schartner\n"
     ]
    },
    {
     "name": "stderr",
     "output_type": "stream",
     "text": [
      "Inconsistent dimensions for object:_ibl_leftCamera\n",
      "(379271,),    times\n",
      "(379265,),    nose_tip_x\n",
      "(379265,),    nose_tip_y\n",
      "(379265,),    nose_tip_likelihood\n",
      "(379265,),    pupil_top_r_x\n",
      "(379265,),    pupil_top_r_y\n",
      "(379265,),    pupil_top_r_likelihood\n",
      "(379265,),    pupil_right_r_x\n",
      "(379265,),    pupil_right_r_y\n",
      "(379265,),    pupil_right_r_likelihood\n",
      "(379265,),    pupil_bottom_r_x\n",
      "(379265,),    pupil_bottom_r_y\n",
      "(379265,),    pupil_bottom_r_likelihood\n",
      "(379265,),    pupil_left_r_x\n",
      "(379265,),    pupil_left_r_y\n",
      "(379265,),    pupil_left_r_likelihood\n",
      "(379265,),    paw_l_x\n",
      "(379265,),    paw_l_y\n",
      "(379265,),    paw_l_likelihood\n",
      "(379265,),    paw_r_x\n",
      "(379265,),    paw_r_y\n",
      "(379265,),    paw_r_likelihood\n",
      "(379265,),    tube_top_x\n",
      "(379265,),    tube_top_y\n",
      "(379265,),    tube_top_likelihood\n",
      "(379265,),    tube_bottom_x\n",
      "(379265,),    tube_bottom_y\n",
      "(379265,),    tube_bottom_likelihood\n",
      "(379265,),    tongue_end_l_x\n",
      "(379265,),    tongue_end_l_y\n",
      "(379265,),    tongue_end_l_likelihood\n",
      "(379265,),    tongue_end_r_x\n",
      "(379265,),    tongue_end_r_y\n",
      "(379265,),    tongue_end_r_likelihood\n",
      "Inconsistent dimensions for object:_ibl_trials\n",
      "(893,),    itiDuration\n",
      "(767,),    stimOn_times\n",
      "(767, 2),    intervals\n",
      "(893,),    feedbackType\n",
      "(893,),    choice\n",
      "(893,),    rewardVolume\n",
      "(767,),    feedback_times\n",
      "(893,),    contrastRight\n",
      "(893,),    probabilityLeft\n",
      "(893,),    contrastLeft\n",
      "(767,),    goCue_times\n"
     ]
    }
   ],
   "source": [
    "Viewer(eid, 'left', [10,13], save_video=True, eye_zoom=False)"
   ]
  },
  {
   "cell_type": "markdown",
   "metadata": {},
   "source": [
    "As usual when downloading IBL data from flatiron, the dimensions are listed. Below is one frame of the video for illustration. One can see one point for each paw, two points for the edges of the tongue, one point for the nose and there are 4 points close together around the pupil edges. All points for which the DLC network had a confidence probability of below 0.9 are hidden. For instance when the mouse is not licking, there is no tongue and so the network cannot detect it, and no points are shown. \n",
    "\n",
    "The script will display and save the short video in your local folder. "
   ]
  },
  {
   "cell_type": "markdown",
   "metadata": {},
   "source": [
    "![alt text](video_frame.png \"Example frame of video with DLC labels\")"
   ]
  },
  {
   "cell_type": "markdown",
   "metadata": {},
   "source": [
    "Sections of the script <code>DLC_labeled_video.py</code> can be recycled to analyse DLC traces. For example let's plot the x coordinate for the right paw in a <code>'left'</code> cam video for a given trial. "
   ]
  },
  {
   "cell_type": "code",
   "execution_count": 2,
   "metadata": {},
   "outputs": [
    {
     "name": "stdout",
     "output_type": "stream",
     "text": [
      "Connected to https://alyx.internationalbrainlab.org as michael.schartner\n"
     ]
    }
   ],
   "source": [
    "one = ONE()"
   ]
  },
  {
   "cell_type": "code",
   "execution_count": 12,
   "metadata": {},
   "outputs": [],
   "source": [
    "dataset_types = ['camera.times','trials.intervals','camera.dlc']\n",
    "video_type = 'left'"
   ]
  },
  {
   "cell_type": "code",
   "execution_count": 13,
   "metadata": {},
   "outputs": [],
   "source": [
    "# get paths to load in data\n",
    "D = one.load('3663d82b-f197-4e8b-b299-7b803a155b84',dataset_types=dataset_types, dclass_output=True)\n",
    "alf_path = Path(D.local_path[0]).parent.parent / 'alf'\n",
    "video_data = alf_path.parent / 'raw_video_data'"
   ]
  },
  {
   "cell_type": "code",
   "execution_count": 14,
   "metadata": {},
   "outputs": [
    {
     "name": "stderr",
     "output_type": "stream",
     "text": [
      "Inconsistent dimensions for object:_ibl_trials\n",
      "(893,),    itiDuration\n",
      "(767,),    stimOn_times\n",
      "(767, 2),    intervals\n",
      "(893,),    feedbackType\n",
      "(893,),    choice\n",
      "(893,),    rewardVolume\n",
      "(767,),    feedback_times\n",
      "(893,),    contrastRight\n",
      "(893,),    probabilityLeft\n",
      "(893,),    contrastLeft\n",
      "(767,),    goCue_times\n",
      "Inconsistent dimensions for object:_ibl_leftCamera\n",
      "(379271,),    times\n",
      "(379265,),    nose_tip_x\n",
      "(379265,),    nose_tip_y\n",
      "(379265,),    nose_tip_likelihood\n",
      "(379265,),    pupil_top_r_x\n",
      "(379265,),    pupil_top_r_y\n",
      "(379265,),    pupil_top_r_likelihood\n",
      "(379265,),    pupil_right_r_x\n",
      "(379265,),    pupil_right_r_y\n",
      "(379265,),    pupil_right_r_likelihood\n",
      "(379265,),    pupil_bottom_r_x\n",
      "(379265,),    pupil_bottom_r_y\n",
      "(379265,),    pupil_bottom_r_likelihood\n",
      "(379265,),    pupil_left_r_x\n",
      "(379265,),    pupil_left_r_y\n",
      "(379265,),    pupil_left_r_likelihood\n",
      "(379265,),    paw_l_x\n",
      "(379265,),    paw_l_y\n",
      "(379265,),    paw_l_likelihood\n",
      "(379265,),    paw_r_x\n",
      "(379265,),    paw_r_y\n",
      "(379265,),    paw_r_likelihood\n",
      "(379265,),    tube_top_x\n",
      "(379265,),    tube_top_y\n",
      "(379265,),    tube_top_likelihood\n",
      "(379265,),    tube_bottom_x\n",
      "(379265,),    tube_bottom_y\n",
      "(379265,),    tube_bottom_likelihood\n",
      "(379265,),    tongue_end_l_x\n",
      "(379265,),    tongue_end_l_y\n",
      "(379265,),    tongue_end_l_likelihood\n",
      "(379265,),    tongue_end_r_x\n",
      "(379265,),    tongue_end_r_y\n",
      "(379265,),    tongue_end_r_likelihood\n"
     ]
    }
   ],
   "source": [
    "# get trials start and end times, camera time stamps (one for each frame, synced with DLC trace)\n",
    "trials = alf.io.load_object(alf_path, '_ibl_trials')\n",
    "cam0 = alf.io.load_object(alf_path, '_ibl_%sCamera' % video_type)\n",
    "cam1 = alf.io.load_object(video_data, '_ibl_%sCamera' % video_type)\n",
    "cam = {**cam0,**cam1}"
   ]
  },
  {
   "cell_type": "code",
   "execution_count": 16,
   "metadata": {},
   "outputs": [
    {
     "data": {
      "text/plain": [
       "dict_keys(['times', 'nose_tip_x', 'nose_tip_y', 'nose_tip_likelihood', 'pupil_top_r_x', 'pupil_top_r_y', 'pupil_top_r_likelihood', 'pupil_right_r_x', 'pupil_right_r_y', 'pupil_right_r_likelihood', 'pupil_bottom_r_x', 'pupil_bottom_r_y', 'pupil_bottom_r_likelihood', 'pupil_left_r_x', 'pupil_left_r_y', 'pupil_left_r_likelihood', 'paw_l_x', 'paw_l_y', 'paw_l_likelihood', 'paw_r_x', 'paw_r_y', 'paw_r_likelihood', 'tube_top_x', 'tube_top_y', 'tube_top_likelihood', 'tube_bottom_x', 'tube_bottom_y', 'tube_bottom_likelihood', 'tongue_end_l_x', 'tongue_end_l_y', 'tongue_end_l_likelihood', 'tongue_end_r_x', 'tongue_end_r_y', 'tongue_end_r_likelihood'])"
      ]
     },
     "execution_count": 16,
     "metadata": {},
     "output_type": "execute_result"
    }
   ],
   "source": [
    "# for each tracked point there's x,y in [px] in the frame and a likelihood that indicates the network's confidence\n",
    "cam.keys()"
   ]
  },
  {
   "cell_type": "markdown",
   "metadata": {},
   "source": [
    "There is also <code>'times'</code> in this dictionary, the time stamps for each frame that we'll use to sync it with other events in the experiment. Let's get rid of it briefly to have only DLC points and set coordinates to nan when the likelihood is below 0.9.  "
   ]
  },
  {
   "cell_type": "code",
   "execution_count": 17,
   "metadata": {},
   "outputs": [],
   "source": [
    "Times = cam['times']   \n",
    "del cam['times']\n",
    "points = np.unique(['_'.join(x.split('_')[:-1]) for x in cam.keys()])\n",
    "cam['times'] = Times"
   ]
  },
  {
   "cell_type": "code",
   "execution_count": 19,
   "metadata": {},
   "outputs": [],
   "source": [
    "# A helper function to find closest time stamps\n",
    "def find_nearest(array, value):\n",
    "    array = np.asarray(array)\n",
    "    idx = (np.abs(array - value)).argmin()\n",
    "    return idx"
   ]
  },
  {
   "cell_type": "markdown",
   "metadata": {},
   "source": [
    "Let's pick say the 5th trial and find all DLC traces for it."
   ]
  },
  {
   "cell_type": "code",
   "execution_count": 20,
   "metadata": {},
   "outputs": [],
   "source": [
    "frame_start = find_nearest(cam['times'], trials['intervals'][4][0])\n",
    "frame_stop = find_nearest(cam['times'], trials['intervals'][4][1])"
   ]
  },
  {
   "cell_type": "code",
   "execution_count": 29,
   "metadata": {},
   "outputs": [],
   "source": [
    "XYs = {}\n",
    "for point in points:\n",
    "    x = np.ma.masked_where(\n",
    "        cam[point + '_likelihood'] < 0.9, cam[point + '_x'])\n",
    "    x = x.filled(np.nan)\n",
    "    y = np.ma.masked_where(\n",
    "        cam[point + '_likelihood'] < 0.9, cam[point + '_y'])\n",
    "    y = y.filled(np.nan)\n",
    "    XYs[point] = np.array(\n",
    "        [x[frame_start:frame_stop], y[frame_start:frame_stop]])"
   ]
  },
  {
   "cell_type": "code",
   "execution_count": 27,
   "metadata": {},
   "outputs": [],
   "source": [
    "import matplotlib.pyplot as plt"
   ]
  },
  {
   "cell_type": "code",
   "execution_count": 34,
   "metadata": {},
   "outputs": [
    {
     "data": {
      "text/plain": [
       "Text(0, 0.5, 'x location of right paw [px]')"
      ]
     },
     "execution_count": 34,
     "metadata": {},
     "output_type": "execute_result"
    },
    {
     "data": {
      "image/png": "[encoded data removed]",
      "text/plain": [
       "<Figure size 432x288 with 1 Axes>"
      ]
     },
     "metadata": {
      "needs_background": "light"
     },
     "output_type": "display_data"
    }
   ],
   "source": [
    "plt.plot(cam['times'][frame_start:frame_stop],XYs['paw_r'][0])\n",
    "plt.xlabel('time [sec]')\n",
    "plt.ylabel('x location of right paw [px]')"
   ]
  },
  {
   "cell_type": "code",
   "execution_count": null,
   "metadata": {},
   "outputs": [],
   "source": []
  }
 ],
 "metadata": {
  "kernelspec": {
   "display_name": "Python (base)",
   "language": "python",
   "name": "base"
  },
  "language_info": {
   "codemirror_mode": {
    "name": "ipython",
    "version": 3
   },
   "file_extension": ".py",
   "mimetype": "text/x-python",
   "name": "python",
   "nbconvert_exporter": "python",
   "pygments_lexer": "ipython3",
   "version": "3.7.3"
  }
 },
 "nbformat": 4,
 "nbformat_minor": 2
}
