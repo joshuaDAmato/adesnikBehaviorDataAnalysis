{
 "cells": [
  {
   "cell_type": "markdown",
   "metadata": {},
   "source": [
    "### Note:\n",
    "* This is not the original code, this is editied code from the behaviour team meeting on 9.22"
   ]
  },
  {
   "cell_type": "code",
   "execution_count": 1,
   "metadata": {},
   "outputs": [],
   "source": [
    "# -*- coding:utf-8 -*-\n",
    "# @Author: Niccolò Bonacchi\n",
    "# @Date: Thursday, February 21st 2019, 7:13:37 pm\n",
    "# @Last Modified by: Niccolò Bonacchi\n",
    "# @Last Modified time: 21-02-2019 07:35:12.1212\n",
    "\n",
    "\n",
    "\n",
    "from pathlib import Path\n",
    "import ibllib.io.raw_data_loaders as raw\n",
    "import matplotlib.pyplot as plt\n",
    "import numpy as np\n",
    "import sys\n",
    "\n",
    "\n",
    "def get_port_events(events: dict, name: str = '') -> list:\n",
    "    out: list = []\n",
    "    for k in events:\n",
    "        if name in k:\n",
    "            out.extend(events[k])\n",
    "    out = sorted(out)\n",
    "\n",
    "    return out\n",
    "\n",
    "session_path = '/Users/joshuadamato/My Drive/Adesnik Lab/SampleData/2022-09-06/001'\n",
    "\n",
    "#local test mouse path: r'C:\\iblrig_data\\Subjects\\_iblrig_test_mouse\\2022-09-31\\004//'\n",
    "#synapse path: r'Z:\\moraogando\\IBLdata\\Box1_basement\\MBOT42_1840\\2022-08-23\\002//'\n",
    "#local path:  r'C:\\iblrig_data\\Subjects\\MBOT42_1840\\2022-08-19\\005//'\n"
   ]
  },
  {
   "cell_type": "code",
   "execution_count": 2,
   "metadata": {
    "scrolled": false
   },
   "outputs": [
    {
     "name": "stdout",
     "output_type": "stream",
     "text": [
      "192\n"
     ]
    }
   ],
   "source": [
    "\n",
    "session_data_file = Path(session_path) #getting path to session folder\n",
    "if not session_data_file.exists():  #check if the directory (folder) exists\n",
    "    raise (FileNotFoundError)\n",
    "data = raw.load_data(session_data_file) #trial-wise list of dictionaries\n",
    "unsynced_trial_count = 0 #setting initial unsynced trial count to 0\n",
    "frame2ttl = [] \n",
    "sound = []\n",
    "camera = []\n",
    "trial_end = []\n",
    "for trial_data in data:\n",
    "    tevents = trial_data['behavior_data']['Events timestamps']\n",
    "    ev_bnc1 = get_port_events(tevents, name='BNC1')\n",
    "    ev_bnc2 = get_port_events(tevents, name='BNC2')\n",
    "    ev_port1 = get_port_events(tevents, name='Port1')\n",
    "    if not ev_bnc1 or not ev_bnc2 or not ev_port1:\n",
    "        unsynced_trial_count += 1\n",
    "    frame2ttl.extend(ev_bnc1)\n",
    "    sound.extend(ev_bnc2)\n",
    "    camera.extend(ev_port1)\n",
    "    trial_end.append(trial_data['behavior_data']['Trial end timestamp'])\n",
    "\n",
    "print(len(data))"
   ]
  },
  {
   "cell_type": "code",
   "execution_count": 3,
   "metadata": {},
   "outputs": [
    {
     "name": "stdout",
     "output_type": "stream",
     "text": [
      "Found 11 trials with bad sync data for Box 1\n"
     ]
    },
    {
     "data": {
      "image/png": "[encoded data removed]",
      "text/plain": [
       "<Figure size 640x480 with 1 Axes>"
      ]
     },
     "metadata": {},
     "output_type": "display_data"
    }
   ],
   "source": [
    "print(f'Found {unsynced_trial_count} trials with bad sync data for Box 1')\n",
    "\n",
    "f = plt.figure()  #figsize=(19.2, 10.8), dpi=100)\n",
    "ax = plt.subplot2grid((1, 1), (0, 0), rowspan=1, colspan=1)\n",
    "\n",
    "ax.plot(camera, np.ones(len(camera)) * 1, '|')\n",
    "ax.plot(sound, np.ones(len(sound)) * 2, '|')\n",
    "ax.plot(frame2ttl, np.ones(len(frame2ttl)) * 3, '|')\n",
    "[ax.axvline(t, alpha=0.5) for t in trial_end]\n",
    "ax.set_ylim([0, 4])\n",
    "ax.set_yticks(range(4))\n",
    "ax.set_yticklabels(['', 'camera', 'sound', 'frame2ttl'])\n",
    "plt.show()"
   ]
  },
  {
   "cell_type": "code",
   "execution_count": 4,
   "metadata": {},
   "outputs": [
    {
     "data": {
      "text/plain": [
       "[1428.2700999999997,\n",
       " 1428.2702,\n",
       " 1428.7702,\n",
       " 1428.8701999999998,\n",
       " 1429.8701999999998,\n",
       " 1429.9001999999998,\n",
       " 1430.0489999999998,\n",
       " 1430.1309999999999,\n",
       " 1431.0489999999998,\n",
       " 1431.6303999999998]"
      ]
     },
     "execution_count": 4,
     "metadata": {},
     "output_type": "execute_result"
    }
   ],
   "source": [
    "\n",
    "trial_data['behavior_data']['Events timestamps']['Tup']"
   ]
  },
  {
   "cell_type": "code",
   "execution_count": 5,
   "metadata": {},
   "outputs": [
    {
     "data": {
      "text/plain": [
       "78088"
      ]
     },
     "execution_count": 5,
     "metadata": {},
     "output_type": "execute_result"
    }
   ],
   "source": [
    "len(camera)"
   ]
  },
  {
   "cell_type": "code",
   "execution_count": 28,
   "metadata": {},
   "outputs": [
    {
     "data": {
      "text/plain": [
       "['Bpod start timestamp',\n",
       " 'Events timestamps',\n",
       " 'States timestamps',\n",
       " 'Trial end timestamp',\n",
       " 'Trial start timestamp']"
      ]
     },
     "execution_count": 28,
     "metadata": {},
     "output_type": "execute_result"
    }
   ],
   "source": [
    "# data from a single trial, taken from a list of dicts for each trial\n",
    "trialDataKeys = sorted(list(trial_data.keys()))\n",
    "# trialDataKeys\n",
    "\n",
    "# behavior data from a single trial \n",
    "behavior_data_keys = sorted(list(trial_data['behavior_data'].keys()))\n",
    "# behavior_data_keys\n"
   ]
  },
  {
   "cell_type": "code",
   "execution_count": 2,
   "metadata": {},
   "outputs": [
    {
     "ename": "NameError",
     "evalue": "name 'trial_data' is not defined",
     "output_type": "error",
     "traceback": [
      "\u001b[0;31m---------------------------------------------------------------------------\u001b[0m",
      "\u001b[0;31mNameError\u001b[0m                                 Traceback (most recent call last)",
      "Cell \u001b[0;32mIn [2], line 1\u001b[0m\n\u001b[0;32m----> 1\u001b[0m \u001b[43mtrial_data\u001b[49m[\u001b[38;5;124m'\u001b[39m\u001b[38;5;124mbehavior_data\u001b[39m\u001b[38;5;124m'\u001b[39m]\n",
      "\u001b[0;31mNameError\u001b[0m: name 'trial_data' is not defined"
     ]
    }
   ],
   "source": [
    "trial_data['behavior_data']"
   ]
  },
  {
   "cell_type": "code",
   "execution_count": null,
   "metadata": {},
   "outputs": [],
   "source": []
  }
 ],
 "metadata": {
  "kernelspec": {
   "display_name": "Python 3 (ipykernel)",
   "language": "python",
   "name": "python3"
  },
  "language_info": {
   "codemirror_mode": {
    "name": "ipython",
    "version": 3
   },
   "file_extension": ".py",
   "mimetype": "text/x-python",
   "name": "python",
   "nbconvert_exporter": "python",
   "pygments_lexer": "ipython3",
   "version": "3.8.13"
  }
 },
 "nbformat": 4,
 "nbformat_minor": 4
}
